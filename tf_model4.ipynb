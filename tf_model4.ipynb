{
 "cells": [
  {
   "cell_type": "code",
   "execution_count": 1,
   "metadata": {},
   "outputs": [],
   "source": [
    "from sklearn.model_selection import train_test_split\n",
    "from sklearn.preprocessing import StandardScaler\n",
    "import pandas as pd\n",
    "import tensorflow as tf"
   ]
  },
  {
   "cell_type": "code",
   "execution_count": 2,
   "metadata": {},
   "outputs": [
    {
     "data": {
      "text/html": [
       "<div>\n",
       "<style scoped>\n",
       "    .dataframe tbody tr th:only-of-type {\n",
       "        vertical-align: middle;\n",
       "    }\n",
       "\n",
       "    .dataframe tbody tr th {\n",
       "        vertical-align: top;\n",
       "    }\n",
       "\n",
       "    .dataframe thead th {\n",
       "        text-align: right;\n",
       "    }\n",
       "</style>\n",
       "<table border=\"1\" class=\"dataframe\">\n",
       "  <thead>\n",
       "    <tr style=\"text-align: right;\">\n",
       "      <th></th>\n",
       "      <th>Age</th>\n",
       "      <th>Gender</th>\n",
       "      <th>Insurance_Type</th>\n",
       "      <th>Chronic_Disease</th>\n",
       "      <th>Mental_Health_Status</th>\n",
       "      <th>Employment_Status</th>\n",
       "      <th>Education_Level</th>\n",
       "      <th>Transportation_Access</th>\n",
       "      <th>Distance_from_Facility</th>\n",
       "      <th>Area_Type</th>\n",
       "      <th>Days Diff</th>\n",
       "      <th>Appointment_Outcome</th>\n",
       "    </tr>\n",
       "  </thead>\n",
       "  <tbody>\n",
       "    <tr>\n",
       "      <th>0</th>\n",
       "      <td>93.0</td>\n",
       "      <td>Male</td>\n",
       "      <td>Medicare</td>\n",
       "      <td>False</td>\n",
       "      <td>True</td>\n",
       "      <td>Student</td>\n",
       "      <td>Advanced Degree</td>\n",
       "      <td>True</td>\n",
       "      <td>37.785038</td>\n",
       "      <td>Suburban</td>\n",
       "      <td>285</td>\n",
       "      <td>Show</td>\n",
       "    </tr>\n",
       "    <tr>\n",
       "      <th>1</th>\n",
       "      <td>52.0</td>\n",
       "      <td>Male</td>\n",
       "      <td>Uninsured</td>\n",
       "      <td>False</td>\n",
       "      <td>False</td>\n",
       "      <td>Employed</td>\n",
       "      <td>College</td>\n",
       "      <td>True</td>\n",
       "      <td>NaN</td>\n",
       "      <td>Rural</td>\n",
       "      <td>257</td>\n",
       "      <td>No-Show</td>\n",
       "    </tr>\n",
       "    <tr>\n",
       "      <th>2</th>\n",
       "      <td>8.0</td>\n",
       "      <td>Male</td>\n",
       "      <td>Medicare</td>\n",
       "      <td>True</td>\n",
       "      <td>NaN</td>\n",
       "      <td>NaN</td>\n",
       "      <td>Advanced Degree</td>\n",
       "      <td>True</td>\n",
       "      <td>27.277654</td>\n",
       "      <td>Rural</td>\n",
       "      <td>622</td>\n",
       "      <td>Show</td>\n",
       "    </tr>\n",
       "    <tr>\n",
       "      <th>3</th>\n",
       "      <td>5.0</td>\n",
       "      <td>Other</td>\n",
       "      <td>Medicare</td>\n",
       "      <td>False</td>\n",
       "      <td>True</td>\n",
       "      <td>Student</td>\n",
       "      <td>College</td>\n",
       "      <td>True</td>\n",
       "      <td>44.618708</td>\n",
       "      <td>NaN</td>\n",
       "      <td>366</td>\n",
       "      <td>Show</td>\n",
       "    </tr>\n",
       "    <tr>\n",
       "      <th>4</th>\n",
       "      <td>15.0</td>\n",
       "      <td>Female</td>\n",
       "      <td>Medicaid</td>\n",
       "      <td>NaN</td>\n",
       "      <td>False</td>\n",
       "      <td>Unemployed</td>\n",
       "      <td>High School</td>\n",
       "      <td>True</td>\n",
       "      <td>34.033755</td>\n",
       "      <td>Suburban</td>\n",
       "      <td>345</td>\n",
       "      <td>Show</td>\n",
       "    </tr>\n",
       "    <tr>\n",
       "      <th>...</th>\n",
       "      <td>...</td>\n",
       "      <td>...</td>\n",
       "      <td>...</td>\n",
       "      <td>...</td>\n",
       "      <td>...</td>\n",
       "      <td>...</td>\n",
       "      <td>...</td>\n",
       "      <td>...</td>\n",
       "      <td>...</td>\n",
       "      <td>...</td>\n",
       "      <td>...</td>\n",
       "      <td>...</td>\n",
       "    </tr>\n",
       "    <tr>\n",
       "      <th>45037</th>\n",
       "      <td>57.0</td>\n",
       "      <td>Female</td>\n",
       "      <td>Private</td>\n",
       "      <td>True</td>\n",
       "      <td>False</td>\n",
       "      <td>Student</td>\n",
       "      <td>High School</td>\n",
       "      <td>True</td>\n",
       "      <td>28.410940</td>\n",
       "      <td>Suburban</td>\n",
       "      <td>35</td>\n",
       "      <td>Show</td>\n",
       "    </tr>\n",
       "    <tr>\n",
       "      <th>45038</th>\n",
       "      <td>48.0</td>\n",
       "      <td>Female</td>\n",
       "      <td>NaN</td>\n",
       "      <td>True</td>\n",
       "      <td>True</td>\n",
       "      <td>Student</td>\n",
       "      <td>NaN</td>\n",
       "      <td>True</td>\n",
       "      <td>26.576418</td>\n",
       "      <td>Urban</td>\n",
       "      <td>113</td>\n",
       "      <td>No-Show</td>\n",
       "    </tr>\n",
       "    <tr>\n",
       "      <th>45039</th>\n",
       "      <td>5.0</td>\n",
       "      <td>Other</td>\n",
       "      <td>Medicaid</td>\n",
       "      <td>True</td>\n",
       "      <td>True</td>\n",
       "      <td>Student</td>\n",
       "      <td>NaN</td>\n",
       "      <td>False</td>\n",
       "      <td>20.674054</td>\n",
       "      <td>Suburban</td>\n",
       "      <td>6</td>\n",
       "      <td>No-Show</td>\n",
       "    </tr>\n",
       "    <tr>\n",
       "      <th>45040</th>\n",
       "      <td>53.0</td>\n",
       "      <td>Male</td>\n",
       "      <td>Medicaid</td>\n",
       "      <td>False</td>\n",
       "      <td>False</td>\n",
       "      <td>Employed</td>\n",
       "      <td>College</td>\n",
       "      <td>False</td>\n",
       "      <td>21.190068</td>\n",
       "      <td>Suburban</td>\n",
       "      <td>231</td>\n",
       "      <td>No-Show</td>\n",
       "    </tr>\n",
       "    <tr>\n",
       "      <th>45041</th>\n",
       "      <td>13.0</td>\n",
       "      <td>Female</td>\n",
       "      <td>Private</td>\n",
       "      <td>False</td>\n",
       "      <td>True</td>\n",
       "      <td>Retired</td>\n",
       "      <td>NaN</td>\n",
       "      <td>True</td>\n",
       "      <td>NaN</td>\n",
       "      <td>Suburban</td>\n",
       "      <td>331</td>\n",
       "      <td>No-Show</td>\n",
       "    </tr>\n",
       "  </tbody>\n",
       "</table>\n",
       "<p>45042 rows × 12 columns</p>\n",
       "</div>"
      ],
      "text/plain": [
       "        Age  Gender Insurance_Type Chronic_Disease Mental_Health_Status  \\\n",
       "0      93.0    Male       Medicare           False                 True   \n",
       "1      52.0    Male      Uninsured           False                False   \n",
       "2       8.0    Male       Medicare            True                  NaN   \n",
       "3       5.0   Other       Medicare           False                 True   \n",
       "4      15.0  Female       Medicaid             NaN                False   \n",
       "...     ...     ...            ...             ...                  ...   \n",
       "45037  57.0  Female        Private            True                False   \n",
       "45038  48.0  Female            NaN            True                 True   \n",
       "45039   5.0   Other       Medicaid            True                 True   \n",
       "45040  53.0    Male       Medicaid           False                False   \n",
       "45041  13.0  Female        Private           False                 True   \n",
       "\n",
       "      Employment_Status  Education_Level Transportation_Access  \\\n",
       "0               Student  Advanced Degree                  True   \n",
       "1              Employed          College                  True   \n",
       "2                   NaN  Advanced Degree                  True   \n",
       "3               Student          College                  True   \n",
       "4            Unemployed      High School                  True   \n",
       "...                 ...              ...                   ...   \n",
       "45037           Student      High School                  True   \n",
       "45038           Student              NaN                  True   \n",
       "45039           Student              NaN                 False   \n",
       "45040          Employed          College                 False   \n",
       "45041           Retired              NaN                  True   \n",
       "\n",
       "       Distance_from_Facility Area_Type  Days Diff Appointment_Outcome  \n",
       "0                   37.785038  Suburban        285                Show  \n",
       "1                         NaN     Rural        257             No-Show  \n",
       "2                   27.277654     Rural        622                Show  \n",
       "3                   44.618708       NaN        366                Show  \n",
       "4                   34.033755  Suburban        345                Show  \n",
       "...                       ...       ...        ...                 ...  \n",
       "45037               28.410940  Suburban         35                Show  \n",
       "45038               26.576418     Urban        113             No-Show  \n",
       "45039               20.674054  Suburban          6             No-Show  \n",
       "45040               21.190068  Suburban        231             No-Show  \n",
       "45041                     NaN  Suburban        331             No-Show  \n",
       "\n",
       "[45042 rows x 12 columns]"
      ]
     },
     "execution_count": 2,
     "metadata": {},
     "output_type": "execute_result"
    }
   ],
   "source": [
    "# Import data\n",
    "path = \"clean_df.csv\"\n",
    "\n",
    "noshow_df = pd.read_csv(path)\n",
    "noshow_df"
   ]
  },
  {
   "cell_type": "code",
   "execution_count": 3,
   "metadata": {},
   "outputs": [],
   "source": [
    "# Drop all n/a values\n",
    "noshow_df = noshow_df.dropna(subset=['Appointment_Outcome'])"
   ]
  },
  {
   "cell_type": "code",
   "execution_count": 4,
   "metadata": {},
   "outputs": [
    {
     "data": {
      "text/html": [
       "<div>\n",
       "<style scoped>\n",
       "    .dataframe tbody tr th:only-of-type {\n",
       "        vertical-align: middle;\n",
       "    }\n",
       "\n",
       "    .dataframe tbody tr th {\n",
       "        vertical-align: top;\n",
       "    }\n",
       "\n",
       "    .dataframe thead th {\n",
       "        text-align: right;\n",
       "    }\n",
       "</style>\n",
       "<table border=\"1\" class=\"dataframe\">\n",
       "  <thead>\n",
       "    <tr style=\"text-align: right;\">\n",
       "      <th></th>\n",
       "      <th>Age</th>\n",
       "      <th>Gender</th>\n",
       "      <th>Insurance_Type</th>\n",
       "      <th>Chronic_Disease</th>\n",
       "      <th>Mental_Health_Status</th>\n",
       "      <th>Employment_Status</th>\n",
       "      <th>Education_Level</th>\n",
       "      <th>Transportation_Access</th>\n",
       "      <th>Distance_from_Facility</th>\n",
       "      <th>Area_Type</th>\n",
       "      <th>Days Diff</th>\n",
       "      <th>Appointment_Outcome</th>\n",
       "    </tr>\n",
       "  </thead>\n",
       "  <tbody>\n",
       "    <tr>\n",
       "      <th>0</th>\n",
       "      <td>93.0</td>\n",
       "      <td>Male</td>\n",
       "      <td>Medicare</td>\n",
       "      <td>False</td>\n",
       "      <td>True</td>\n",
       "      <td>Student</td>\n",
       "      <td>Advanced Degree</td>\n",
       "      <td>True</td>\n",
       "      <td>37.785038</td>\n",
       "      <td>Suburban</td>\n",
       "      <td>285</td>\n",
       "      <td>Show</td>\n",
       "    </tr>\n",
       "    <tr>\n",
       "      <th>1</th>\n",
       "      <td>52.0</td>\n",
       "      <td>Male</td>\n",
       "      <td>Uninsured</td>\n",
       "      <td>False</td>\n",
       "      <td>False</td>\n",
       "      <td>Employed</td>\n",
       "      <td>College</td>\n",
       "      <td>True</td>\n",
       "      <td>NaN</td>\n",
       "      <td>Rural</td>\n",
       "      <td>257</td>\n",
       "      <td>No-Show</td>\n",
       "    </tr>\n",
       "    <tr>\n",
       "      <th>2</th>\n",
       "      <td>8.0</td>\n",
       "      <td>Male</td>\n",
       "      <td>Medicare</td>\n",
       "      <td>True</td>\n",
       "      <td>NaN</td>\n",
       "      <td>NaN</td>\n",
       "      <td>Advanced Degree</td>\n",
       "      <td>True</td>\n",
       "      <td>27.277654</td>\n",
       "      <td>Rural</td>\n",
       "      <td>622</td>\n",
       "      <td>Show</td>\n",
       "    </tr>\n",
       "    <tr>\n",
       "      <th>3</th>\n",
       "      <td>5.0</td>\n",
       "      <td>Other</td>\n",
       "      <td>Medicare</td>\n",
       "      <td>False</td>\n",
       "      <td>True</td>\n",
       "      <td>Student</td>\n",
       "      <td>College</td>\n",
       "      <td>True</td>\n",
       "      <td>44.618708</td>\n",
       "      <td>NaN</td>\n",
       "      <td>366</td>\n",
       "      <td>Show</td>\n",
       "    </tr>\n",
       "    <tr>\n",
       "      <th>4</th>\n",
       "      <td>15.0</td>\n",
       "      <td>Female</td>\n",
       "      <td>Medicaid</td>\n",
       "      <td>NaN</td>\n",
       "      <td>False</td>\n",
       "      <td>Unemployed</td>\n",
       "      <td>High School</td>\n",
       "      <td>True</td>\n",
       "      <td>34.033755</td>\n",
       "      <td>Suburban</td>\n",
       "      <td>345</td>\n",
       "      <td>Show</td>\n",
       "    </tr>\n",
       "    <tr>\n",
       "      <th>...</th>\n",
       "      <td>...</td>\n",
       "      <td>...</td>\n",
       "      <td>...</td>\n",
       "      <td>...</td>\n",
       "      <td>...</td>\n",
       "      <td>...</td>\n",
       "      <td>...</td>\n",
       "      <td>...</td>\n",
       "      <td>...</td>\n",
       "      <td>...</td>\n",
       "      <td>...</td>\n",
       "      <td>...</td>\n",
       "    </tr>\n",
       "    <tr>\n",
       "      <th>45037</th>\n",
       "      <td>57.0</td>\n",
       "      <td>Female</td>\n",
       "      <td>Private</td>\n",
       "      <td>True</td>\n",
       "      <td>False</td>\n",
       "      <td>Student</td>\n",
       "      <td>High School</td>\n",
       "      <td>True</td>\n",
       "      <td>28.410940</td>\n",
       "      <td>Suburban</td>\n",
       "      <td>35</td>\n",
       "      <td>Show</td>\n",
       "    </tr>\n",
       "    <tr>\n",
       "      <th>45038</th>\n",
       "      <td>48.0</td>\n",
       "      <td>Female</td>\n",
       "      <td>NaN</td>\n",
       "      <td>True</td>\n",
       "      <td>True</td>\n",
       "      <td>Student</td>\n",
       "      <td>NaN</td>\n",
       "      <td>True</td>\n",
       "      <td>26.576418</td>\n",
       "      <td>Urban</td>\n",
       "      <td>113</td>\n",
       "      <td>No-Show</td>\n",
       "    </tr>\n",
       "    <tr>\n",
       "      <th>45039</th>\n",
       "      <td>5.0</td>\n",
       "      <td>Other</td>\n",
       "      <td>Medicaid</td>\n",
       "      <td>True</td>\n",
       "      <td>True</td>\n",
       "      <td>Student</td>\n",
       "      <td>NaN</td>\n",
       "      <td>False</td>\n",
       "      <td>20.674054</td>\n",
       "      <td>Suburban</td>\n",
       "      <td>6</td>\n",
       "      <td>No-Show</td>\n",
       "    </tr>\n",
       "    <tr>\n",
       "      <th>45040</th>\n",
       "      <td>53.0</td>\n",
       "      <td>Male</td>\n",
       "      <td>Medicaid</td>\n",
       "      <td>False</td>\n",
       "      <td>False</td>\n",
       "      <td>Employed</td>\n",
       "      <td>College</td>\n",
       "      <td>False</td>\n",
       "      <td>21.190068</td>\n",
       "      <td>Suburban</td>\n",
       "      <td>231</td>\n",
       "      <td>No-Show</td>\n",
       "    </tr>\n",
       "    <tr>\n",
       "      <th>45041</th>\n",
       "      <td>13.0</td>\n",
       "      <td>Female</td>\n",
       "      <td>Private</td>\n",
       "      <td>False</td>\n",
       "      <td>True</td>\n",
       "      <td>Retired</td>\n",
       "      <td>NaN</td>\n",
       "      <td>True</td>\n",
       "      <td>NaN</td>\n",
       "      <td>Suburban</td>\n",
       "      <td>331</td>\n",
       "      <td>No-Show</td>\n",
       "    </tr>\n",
       "  </tbody>\n",
       "</table>\n",
       "<p>45042 rows × 12 columns</p>\n",
       "</div>"
      ],
      "text/plain": [
       "        Age  Gender Insurance_Type Chronic_Disease Mental_Health_Status  \\\n",
       "0      93.0    Male       Medicare           False                 True   \n",
       "1      52.0    Male      Uninsured           False                False   \n",
       "2       8.0    Male       Medicare            True                  NaN   \n",
       "3       5.0   Other       Medicare           False                 True   \n",
       "4      15.0  Female       Medicaid             NaN                False   \n",
       "...     ...     ...            ...             ...                  ...   \n",
       "45037  57.0  Female        Private            True                False   \n",
       "45038  48.0  Female            NaN            True                 True   \n",
       "45039   5.0   Other       Medicaid            True                 True   \n",
       "45040  53.0    Male       Medicaid           False                False   \n",
       "45041  13.0  Female        Private           False                 True   \n",
       "\n",
       "      Employment_Status  Education_Level Transportation_Access  \\\n",
       "0               Student  Advanced Degree                  True   \n",
       "1              Employed          College                  True   \n",
       "2                   NaN  Advanced Degree                  True   \n",
       "3               Student          College                  True   \n",
       "4            Unemployed      High School                  True   \n",
       "...                 ...              ...                   ...   \n",
       "45037           Student      High School                  True   \n",
       "45038           Student              NaN                  True   \n",
       "45039           Student              NaN                 False   \n",
       "45040          Employed          College                 False   \n",
       "45041           Retired              NaN                  True   \n",
       "\n",
       "       Distance_from_Facility Area_Type  Days Diff Appointment_Outcome  \n",
       "0                   37.785038  Suburban        285                Show  \n",
       "1                         NaN     Rural        257             No-Show  \n",
       "2                   27.277654     Rural        622                Show  \n",
       "3                   44.618708       NaN        366                Show  \n",
       "4                   34.033755  Suburban        345                Show  \n",
       "...                       ...       ...        ...                 ...  \n",
       "45037               28.410940  Suburban         35                Show  \n",
       "45038               26.576418     Urban        113             No-Show  \n",
       "45039               20.674054  Suburban          6             No-Show  \n",
       "45040               21.190068  Suburban        231             No-Show  \n",
       "45041                     NaN  Suburban        331             No-Show  \n",
       "\n",
       "[45042 rows x 12 columns]"
      ]
     },
     "execution_count": 4,
     "metadata": {},
     "output_type": "execute_result"
    }
   ],
   "source": [
    "noshow_df"
   ]
  },
  {
   "cell_type": "code",
   "execution_count": 5,
   "metadata": {},
   "outputs": [
    {
     "data": {
      "text/plain": [
       "Age                       float64\n",
       "Gender                     object\n",
       "Insurance_Type             object\n",
       "Chronic_Disease            object\n",
       "Mental_Health_Status       object\n",
       "Employment_Status          object\n",
       "Education_Level            object\n",
       "Transportation_Access      object\n",
       "Distance_from_Facility    float64\n",
       "Area_Type                  object\n",
       "Days Diff                   int64\n",
       "Appointment_Outcome        object\n",
       "dtype: object"
      ]
     },
     "execution_count": 5,
     "metadata": {},
     "output_type": "execute_result"
    }
   ],
   "source": [
    "noshow_df.dtypes"
   ]
  },
  {
   "cell_type": "code",
   "execution_count": 6,
   "metadata": {},
   "outputs": [
    {
     "data": {
      "text/plain": [
       "Age                         101\n",
       "Gender                        3\n",
       "Insurance_Type                4\n",
       "Chronic_Disease               2\n",
       "Mental_Health_Status          2\n",
       "Employment_Status             4\n",
       "Education_Level               3\n",
       "Transportation_Access         2\n",
       "Distance_from_Facility    40494\n",
       "Area_Type                     3\n",
       "Days Diff                   724\n",
       "Appointment_Outcome           2\n",
       "dtype: int64"
      ]
     },
     "execution_count": 6,
     "metadata": {},
     "output_type": "execute_result"
    }
   ],
   "source": [
    "noshow_df.nunique()"
   ]
  },
  {
   "cell_type": "code",
   "execution_count": 7,
   "metadata": {},
   "outputs": [
    {
     "data": {
      "text/plain": [
       "Age\n",
       "28.0    452\n",
       "94.0    443\n",
       "96.0    441\n",
       "2.0     440\n",
       "9.0     438\n",
       "       ... \n",
       "58.0    365\n",
       "51.0    364\n",
       "17.0    362\n",
       "66.0    361\n",
       "71.0    339\n",
       "Name: count, Length: 101, dtype: int64"
      ]
     },
     "execution_count": 7,
     "metadata": {},
     "output_type": "execute_result"
    }
   ],
   "source": [
    "age_counts = noshow_df['Age'].value_counts()\n",
    "age_counts"
   ]
  },
  {
   "cell_type": "code",
   "execution_count": 8,
   "metadata": {},
   "outputs": [
    {
     "data": {
      "text/plain": [
       "Gender\n",
       "Female    13656\n",
       "Other     13501\n",
       "Male      13444\n",
       "Name: count, dtype: int64"
      ]
     },
     "execution_count": 8,
     "metadata": {},
     "output_type": "execute_result"
    }
   ],
   "source": [
    "gender_counts = noshow_df['Gender'].value_counts()\n",
    "gender_counts"
   ]
  },
  {
   "cell_type": "code",
   "execution_count": 9,
   "metadata": {},
   "outputs": [
    {
     "data": {
      "text/plain": [
       "Insurance_Type\n",
       "Uninsured    10211\n",
       "Medicare     10163\n",
       "Private      10141\n",
       "Medicaid     10025\n",
       "Name: count, dtype: int64"
      ]
     },
     "execution_count": 9,
     "metadata": {},
     "output_type": "execute_result"
    }
   ],
   "source": [
    "insurance_counts = noshow_df['Insurance_Type'].value_counts()\n",
    "insurance_counts"
   ]
  },
  {
   "cell_type": "code",
   "execution_count": 10,
   "metadata": {},
   "outputs": [
    {
     "data": {
      "text/plain": [
       "Chronic_Disease\n",
       "False    20343\n",
       "True     20233\n",
       "Name: count, dtype: int64"
      ]
     },
     "execution_count": 10,
     "metadata": {},
     "output_type": "execute_result"
    }
   ],
   "source": [
    "chronic_disease_counts = noshow_df['Chronic_Disease'].value_counts()\n",
    "chronic_disease_counts"
   ]
  },
  {
   "cell_type": "code",
   "execution_count": 11,
   "metadata": {},
   "outputs": [
    {
     "data": {
      "text/plain": [
       "Mental_Health_Status\n",
       "False    20381\n",
       "True     20095\n",
       "Name: count, dtype: int64"
      ]
     },
     "execution_count": 11,
     "metadata": {},
     "output_type": "execute_result"
    }
   ],
   "source": [
    "mental_health_status_counts = noshow_df['Mental_Health_Status'].value_counts()\n",
    "mental_health_status_counts"
   ]
  },
  {
   "cell_type": "code",
   "execution_count": 12,
   "metadata": {},
   "outputs": [
    {
     "data": {
      "text/plain": [
       "Employment_Status\n",
       "Employed      10192\n",
       "Retired       10118\n",
       "Student       10089\n",
       "Unemployed    10031\n",
       "Name: count, dtype: int64"
      ]
     },
     "execution_count": 12,
     "metadata": {},
     "output_type": "execute_result"
    }
   ],
   "source": [
    "employment_status_counts = noshow_df['Employment_Status'].value_counts()\n",
    "employment_status_counts"
   ]
  },
  {
   "cell_type": "code",
   "execution_count": 13,
   "metadata": {},
   "outputs": [
    {
     "data": {
      "text/plain": [
       "Education_Level\n",
       "High School        10277\n",
       "Advanced Degree    10261\n",
       "College             9872\n",
       "Name: count, dtype: int64"
      ]
     },
     "execution_count": 13,
     "metadata": {},
     "output_type": "execute_result"
    }
   ],
   "source": [
    "education_level_counts = noshow_df['Education_Level'].value_counts()\n",
    "education_level_counts\n",
    "\n",
    "# Missing 'None' values"
   ]
  },
  {
   "cell_type": "code",
   "execution_count": 14,
   "metadata": {},
   "outputs": [
    {
     "data": {
      "text/plain": [
       "Transportation_Access\n",
       "False    20308\n",
       "True     20212\n",
       "Name: count, dtype: int64"
      ]
     },
     "execution_count": 14,
     "metadata": {},
     "output_type": "execute_result"
    }
   ],
   "source": [
    "transportation_access_counts = noshow_df['Transportation_Access'].value_counts()\n",
    "transportation_access_counts"
   ]
  },
  {
   "cell_type": "code",
   "execution_count": 15,
   "metadata": {},
   "outputs": [
    {
     "data": {
      "text/plain": [
       "Distance_from_Facility\n",
       "37.785038    1\n",
       "7.728993     1\n",
       "39.040855    1\n",
       "44.856200    1\n",
       "44.440638    1\n",
       "            ..\n",
       "39.135709    1\n",
       "12.547019    1\n",
       "21.085779    1\n",
       "13.770227    1\n",
       "21.190068    1\n",
       "Name: count, Length: 40494, dtype: int64"
      ]
     },
     "execution_count": 15,
     "metadata": {},
     "output_type": "execute_result"
    }
   ],
   "source": [
    "distance_counts = noshow_df['Distance_from_Facility'].value_counts()\n",
    "distance_counts"
   ]
  },
  {
   "cell_type": "code",
   "execution_count": 16,
   "metadata": {},
   "outputs": [
    {
     "data": {
      "text/plain": [
       "Area_Type\n",
       "Urban       13586\n",
       "Rural       13505\n",
       "Suburban    13475\n",
       "Name: count, dtype: int64"
      ]
     },
     "execution_count": 16,
     "metadata": {},
     "output_type": "execute_result"
    }
   ],
   "source": [
    "area_counts = noshow_df['Area_Type'].value_counts()\n",
    "area_counts"
   ]
  },
  {
   "cell_type": "code",
   "execution_count": 17,
   "metadata": {},
   "outputs": [
    {
     "data": {
      "text/plain": [
       "Days Diff\n",
       "307    113\n",
       "123    110\n",
       "106    108\n",
       "101    106\n",
       "217    105\n",
       "      ... \n",
       "714      1\n",
       "723      1\n",
       "727      1\n",
       "710      1\n",
       "713      1\n",
       "Name: count, Length: 724, dtype: int64"
      ]
     },
     "execution_count": 17,
     "metadata": {},
     "output_type": "execute_result"
    }
   ],
   "source": [
    "days_diff_counts = noshow_df['Days Diff'].value_counts()\n",
    "days_diff_counts"
   ]
  },
  {
   "cell_type": "code",
   "execution_count": 18,
   "metadata": {},
   "outputs": [
    {
     "data": {
      "text/plain": [
       "Appointment_Outcome\n",
       "Show       22575\n",
       "No-Show    22467\n",
       "Name: count, dtype: int64"
      ]
     },
     "execution_count": 18,
     "metadata": {},
     "output_type": "execute_result"
    }
   ],
   "source": [
    "appt_outcome_counts = noshow_df['Appointment_Outcome'].value_counts()\n",
    "appt_outcome_counts"
   ]
  },
  {
   "cell_type": "code",
   "execution_count": 19,
   "metadata": {},
   "outputs": [],
   "source": [
    "# Map Appointment Outcome column to 0's and 1's\n",
    "noshow_df['Appointment_Outcome'] = noshow_df['Appointment_Outcome'].map({'Show':1, 'No-Show':0})\n",
    "#noshow_df['Appointment_Outcome'] = noshow_df['Appointment_Outcome'].astype(object)"
   ]
  },
  {
   "cell_type": "code",
   "execution_count": 20,
   "metadata": {},
   "outputs": [],
   "source": [
    "# Bin Age into groups\n",
    "age_bins = [0, 24, 50, 75, 100]\n",
    "age_labels = ['0-24', '25-50', '51-75', '76-100']\n",
    "\n",
    "noshow_df['Age'] = pd.cut(noshow_df['Age'], bins=age_bins, labels=age_labels, include_lowest=True)"
   ]
  },
  {
   "cell_type": "code",
   "execution_count": 21,
   "metadata": {},
   "outputs": [],
   "source": [
    "# Bin Distance into groups\n",
    "distance_bins = [0, 10, 20, 30, 40, 50]\n",
    "distance_labels = ['0-10','11-20','21-30','31-40','41-50']\n",
    "\n",
    "noshow_df['Distance_from_Facility'] = pd.cut(noshow_df['Distance_from_Facility'], bins=distance_bins, labels=distance_labels, include_lowest=True)"
   ]
  },
  {
   "cell_type": "code",
   "execution_count": 22,
   "metadata": {},
   "outputs": [],
   "source": [
    "# Bin Days Diff into groups\n",
    "days_diff_bins = [0, 100, 200, 300, 400, 500, 600, 700, 800]\n",
    "days_diff_labels = ['0-100','101-200', '201-300', '301-400', '401-500', '501-600', '601-700', '701-800']\n",
    "\n",
    "noshow_df['Days Diff'] = pd.cut(noshow_df['Days Diff'], bins=days_diff_bins, labels=days_diff_labels, include_lowest=True)"
   ]
  },
  {
   "cell_type": "code",
   "execution_count": 23,
   "metadata": {},
   "outputs": [
    {
     "data": {
      "text/plain": [
       "Appointment_Outcome                int64\n",
       "Age_0-24                            bool\n",
       "Age_25-50                           bool\n",
       "Age_51-75                           bool\n",
       "Age_76-100                          bool\n",
       "Gender_Female                       bool\n",
       "Gender_Male                         bool\n",
       "Gender_Other                        bool\n",
       "Insurance_Type_Medicaid             bool\n",
       "Insurance_Type_Medicare             bool\n",
       "Insurance_Type_Private              bool\n",
       "Insurance_Type_Uninsured            bool\n",
       "Chronic_Disease_False               bool\n",
       "Chronic_Disease_True                bool\n",
       "Mental_Health_Status_False          bool\n",
       "Mental_Health_Status_True           bool\n",
       "Employment_Status_Employed          bool\n",
       "Employment_Status_Retired           bool\n",
       "Employment_Status_Student           bool\n",
       "Employment_Status_Unemployed        bool\n",
       "Education_Level_Advanced Degree     bool\n",
       "Education_Level_College             bool\n",
       "Education_Level_High School         bool\n",
       "Transportation_Access_False         bool\n",
       "Transportation_Access_True          bool\n",
       "Distance_from_Facility_0-10         bool\n",
       "Distance_from_Facility_11-20        bool\n",
       "Distance_from_Facility_21-30        bool\n",
       "Distance_from_Facility_31-40        bool\n",
       "Distance_from_Facility_41-50        bool\n",
       "Area_Type_Rural                     bool\n",
       "Area_Type_Suburban                  bool\n",
       "Area_Type_Urban                     bool\n",
       "Days Diff_0-100                     bool\n",
       "Days Diff_101-200                   bool\n",
       "Days Diff_201-300                   bool\n",
       "Days Diff_301-400                   bool\n",
       "Days Diff_401-500                   bool\n",
       "Days Diff_501-600                   bool\n",
       "Days Diff_601-700                   bool\n",
       "Days Diff_701-800                   bool\n",
       "dtype: object"
      ]
     },
     "execution_count": 23,
     "metadata": {},
     "output_type": "execute_result"
    }
   ],
   "source": [
    "# Convert categorical data to numeric with `pd.get_dummies`\n",
    "noshow_df_dummies = pd.get_dummies(noshow_df)\n",
    "noshow_df_dummies.dtypes"
   ]
  },
  {
   "cell_type": "code",
   "execution_count": 24,
   "metadata": {},
   "outputs": [
    {
     "data": {
      "text/plain": [
       "Appointment_Outcome                0\n",
       "Age_0-24                           0\n",
       "Age_25-50                          0\n",
       "Age_51-75                          0\n",
       "Age_76-100                         0\n",
       "Gender_Female                      0\n",
       "Gender_Male                        0\n",
       "Gender_Other                       0\n",
       "Insurance_Type_Medicaid            0\n",
       "Insurance_Type_Medicare            0\n",
       "Insurance_Type_Private             0\n",
       "Insurance_Type_Uninsured           0\n",
       "Chronic_Disease_False              0\n",
       "Chronic_Disease_True               0\n",
       "Mental_Health_Status_False         0\n",
       "Mental_Health_Status_True          0\n",
       "Employment_Status_Employed         0\n",
       "Employment_Status_Retired          0\n",
       "Employment_Status_Student          0\n",
       "Employment_Status_Unemployed       0\n",
       "Education_Level_Advanced Degree    0\n",
       "Education_Level_College            0\n",
       "Education_Level_High School        0\n",
       "Transportation_Access_False        0\n",
       "Transportation_Access_True         0\n",
       "Distance_from_Facility_0-10        0\n",
       "Distance_from_Facility_11-20       0\n",
       "Distance_from_Facility_21-30       0\n",
       "Distance_from_Facility_31-40       0\n",
       "Distance_from_Facility_41-50       0\n",
       "Area_Type_Rural                    0\n",
       "Area_Type_Suburban                 0\n",
       "Area_Type_Urban                    0\n",
       "Days Diff_0-100                    0\n",
       "Days Diff_101-200                  0\n",
       "Days Diff_201-300                  0\n",
       "Days Diff_301-400                  0\n",
       "Days Diff_401-500                  0\n",
       "Days Diff_501-600                  0\n",
       "Days Diff_601-700                  0\n",
       "Days Diff_701-800                  0\n",
       "dtype: int64"
      ]
     },
     "execution_count": 24,
     "metadata": {},
     "output_type": "execute_result"
    }
   ],
   "source": [
    "noshow_df_dummies.isnull().sum()"
   ]
  },
  {
   "cell_type": "code",
   "execution_count": 25,
   "metadata": {},
   "outputs": [],
   "source": [
    "# Split our preprocessed data into our features and target arrays\n",
    "X = noshow_df_dummies.drop('Appointment_Outcome', axis=1)\n",
    "y = noshow_df_dummies['Appointment_Outcome']\n",
    "\n",
    "# Split the preprocessed data into a training and testing dataset\n",
    "X_train, X_test, y_train, y_test = train_test_split(X, y, test_size=0.2, random_state=50)"
   ]
  },
  {
   "cell_type": "code",
   "execution_count": 26,
   "metadata": {},
   "outputs": [],
   "source": [
    "# Create a StandardScaler instances\n",
    "scaler = StandardScaler()\n",
    "\n",
    "# Fit the StandardScaler\n",
    "X_scaler = scaler.fit(X_train)\n",
    "\n",
    "# Scale the data\n",
    "X_train_scaled = X_scaler.transform(X_train)\n",
    "X_test_scaled = X_scaler.transform(X_test)"
   ]
  },
  {
   "cell_type": "code",
   "execution_count": 27,
   "metadata": {},
   "outputs": [
    {
     "data": {
      "text/plain": [
       "40"
      ]
     },
     "execution_count": 27,
     "metadata": {},
     "output_type": "execute_result"
    }
   ],
   "source": [
    "len(X_train_scaled[0])"
   ]
  },
  {
   "cell_type": "code",
   "execution_count": 28,
   "metadata": {},
   "outputs": [
    {
     "name": "stdout",
     "output_type": "stream",
     "text": [
      "Model: \"sequential\"\n",
      "_________________________________________________________________\n",
      " Layer (type)                Output Shape              Param #   \n",
      "=================================================================\n",
      " dense (Dense)               (None, 20)                820       \n",
      "                                                                 \n",
      " dense_1 (Dense)             (None, 10)                210       \n",
      "                                                                 \n",
      " dense_2 (Dense)             (None, 1)                 11        \n",
      "                                                                 \n",
      "=================================================================\n",
      "Total params: 1,041\n",
      "Trainable params: 1,041\n",
      "Non-trainable params: 0\n",
      "_________________________________________________________________\n"
     ]
    }
   ],
   "source": [
    "# Define the model - deep neural net, i.e., the number of input features and hidden nodes for each layer.\n",
    "number_input_features = len(X_train_scaled[0])\n",
    "hidden_nodes_layer1 = 20\n",
    "hidden_nodes_layer2 = 10\n",
    "\n",
    "nn = tf.keras.models.Sequential()\n",
    "\n",
    "# First hidden layer\n",
    "nn.add(tf.keras.layers.Dense(units=hidden_nodes_layer1, input_dim=number_input_features, activation=\"relu\"))\n",
    "\n",
    "# Second hidden layer\n",
    "nn.add(tf.keras.layers.Dense(units=hidden_nodes_layer2, activation=\"relu\"))\n",
    "\n",
    "# Output layer\n",
    "nn.add(tf.keras.layers.Dense(units=1, activation=\"sigmoid\"))\n",
    "\n",
    "# Check the structure of the model\n",
    "nn.summary()"
   ]
  },
  {
   "cell_type": "code",
   "execution_count": 29,
   "metadata": {},
   "outputs": [],
   "source": [
    "# Compile the model\n",
    "nn.compile(loss=\"binary_crossentropy\", optimizer=\"adam\", metrics=[\"accuracy\"])"
   ]
  },
  {
   "cell_type": "code",
   "execution_count": 30,
   "metadata": {},
   "outputs": [
    {
     "name": "stdout",
     "output_type": "stream",
     "text": [
      "Epoch 1/100\n",
      " 147/1127 [==>...........................] - ETA: 1s - loss: 0.7045 - accuracy: 0.4868"
     ]
    },
    {
     "name": "stdout",
     "output_type": "stream",
     "text": [
      "1127/1127 [==============================] - 2s 1ms/step - loss: 0.6964 - accuracy: 0.5009\n",
      "Epoch 2/100\n",
      "1127/1127 [==============================] - 1s 958us/step - loss: 0.6925 - accuracy: 0.5182\n",
      "Epoch 3/100\n",
      "1127/1127 [==============================] - 1s 979us/step - loss: 0.6916 - accuracy: 0.5242\n",
      "Epoch 4/100\n",
      "1127/1127 [==============================] - 1s 952us/step - loss: 0.6910 - accuracy: 0.5275\n",
      "Epoch 5/100\n",
      "1127/1127 [==============================] - 1s 1ms/step - loss: 0.6903 - accuracy: 0.5310\n",
      "Epoch 6/100\n",
      "1127/1127 [==============================] - 1s 945us/step - loss: 0.6893 - accuracy: 0.5336\n",
      "Epoch 7/100\n",
      "1127/1127 [==============================] - 1s 978us/step - loss: 0.6885 - accuracy: 0.5389\n",
      "Epoch 8/100\n",
      "1127/1127 [==============================] - 1s 1ms/step - loss: 0.6878 - accuracy: 0.5391\n",
      "Epoch 9/100\n",
      "1127/1127 [==============================] - 1s 988us/step - loss: 0.6871 - accuracy: 0.5451\n",
      "Epoch 10/100\n",
      "1127/1127 [==============================] - 1s 998us/step - loss: 0.6862 - accuracy: 0.5459\n",
      "Epoch 11/100\n",
      "1127/1127 [==============================] - 1s 1ms/step - loss: 0.6855 - accuracy: 0.5447\n",
      "Epoch 12/100\n",
      "1127/1127 [==============================] - 1s 1ms/step - loss: 0.6850 - accuracy: 0.5479\n",
      "Epoch 13/100\n",
      "1127/1127 [==============================] - 1s 1ms/step - loss: 0.6845 - accuracy: 0.5492\n",
      "Epoch 14/100\n",
      "1127/1127 [==============================] - 1s 1ms/step - loss: 0.6839 - accuracy: 0.5510\n",
      "Epoch 15/100\n",
      "1127/1127 [==============================] - 1s 1ms/step - loss: 0.6831 - accuracy: 0.5520\n",
      "Epoch 16/100\n",
      "1127/1127 [==============================] - 1s 1ms/step - loss: 0.6826 - accuracy: 0.5548\n",
      "Epoch 17/100\n",
      "1127/1127 [==============================] - 1s 1ms/step - loss: 0.6822 - accuracy: 0.5565\n",
      "Epoch 18/100\n",
      "1127/1127 [==============================] - 1s 1ms/step - loss: 0.6818 - accuracy: 0.5574\n",
      "Epoch 19/100\n",
      "1127/1127 [==============================] - 1s 1ms/step - loss: 0.6812 - accuracy: 0.5588\n",
      "Epoch 20/100\n",
      "1127/1127 [==============================] - 1s 1ms/step - loss: 0.6809 - accuracy: 0.5594\n",
      "Epoch 21/100\n",
      "1127/1127 [==============================] - 1s 1ms/step - loss: 0.6805 - accuracy: 0.5609\n",
      "Epoch 22/100\n",
      "1127/1127 [==============================] - 1s 1ms/step - loss: 0.6799 - accuracy: 0.5612\n",
      "Epoch 23/100\n",
      "1127/1127 [==============================] - 1s 1ms/step - loss: 0.6796 - accuracy: 0.5630\n",
      "Epoch 24/100\n",
      "1127/1127 [==============================] - 1s 1ms/step - loss: 0.6791 - accuracy: 0.5627\n",
      "Epoch 25/100\n",
      "1127/1127 [==============================] - 1s 1ms/step - loss: 0.6789 - accuracy: 0.5643\n",
      "Epoch 26/100\n",
      "1127/1127 [==============================] - 1s 1ms/step - loss: 0.6787 - accuracy: 0.5632\n",
      "Epoch 27/100\n",
      "1127/1127 [==============================] - 1s 1ms/step - loss: 0.6777 - accuracy: 0.5666\n",
      "Epoch 28/100\n",
      "1127/1127 [==============================] - 1s 1ms/step - loss: 0.6779 - accuracy: 0.5659\n",
      "Epoch 29/100\n",
      "1127/1127 [==============================] - 1s 1ms/step - loss: 0.6776 - accuracy: 0.5664\n",
      "Epoch 30/100\n",
      "1127/1127 [==============================] - 1s 1ms/step - loss: 0.6772 - accuracy: 0.5690\n",
      "Epoch 31/100\n",
      "1127/1127 [==============================] - 1s 1ms/step - loss: 0.6768 - accuracy: 0.5688\n",
      "Epoch 32/100\n",
      "1127/1127 [==============================] - 1s 1ms/step - loss: 0.6765 - accuracy: 0.5670\n",
      "Epoch 33/100\n",
      "1127/1127 [==============================] - 1s 1ms/step - loss: 0.6762 - accuracy: 0.5687\n",
      "Epoch 34/100\n",
      "1127/1127 [==============================] - 1s 1ms/step - loss: 0.6757 - accuracy: 0.5708\n",
      "Epoch 35/100\n",
      "1127/1127 [==============================] - 1s 1ms/step - loss: 0.6756 - accuracy: 0.5694\n",
      "Epoch 36/100\n",
      "1127/1127 [==============================] - 1s 1ms/step - loss: 0.6753 - accuracy: 0.5696\n",
      "Epoch 37/100\n",
      "1127/1127 [==============================] - 1s 1ms/step - loss: 0.6749 - accuracy: 0.5743\n",
      "Epoch 38/100\n",
      "1127/1127 [==============================] - 1s 1ms/step - loss: 0.6748 - accuracy: 0.5718\n",
      "Epoch 39/100\n",
      "1127/1127 [==============================] - 1s 1ms/step - loss: 0.6746 - accuracy: 0.5714\n",
      "Epoch 40/100\n",
      "1127/1127 [==============================] - 1s 1ms/step - loss: 0.6743 - accuracy: 0.5725\n",
      "Epoch 41/100\n",
      "1127/1127 [==============================] - 1s 1ms/step - loss: 0.6741 - accuracy: 0.5747\n",
      "Epoch 42/100\n",
      "1127/1127 [==============================] - 1s 1ms/step - loss: 0.6736 - accuracy: 0.5748\n",
      "Epoch 43/100\n",
      "1127/1127 [==============================] - 1s 1ms/step - loss: 0.6738 - accuracy: 0.5749\n",
      "Epoch 44/100\n",
      "1127/1127 [==============================] - 1s 1ms/step - loss: 0.6732 - accuracy: 0.5758\n",
      "Epoch 45/100\n",
      "1127/1127 [==============================] - 1s 1ms/step - loss: 0.6730 - accuracy: 0.5776\n",
      "Epoch 46/100\n",
      "1127/1127 [==============================] - 1s 1ms/step - loss: 0.6730 - accuracy: 0.5790\n",
      "Epoch 47/100\n",
      "1127/1127 [==============================] - 1s 1ms/step - loss: 0.6725 - accuracy: 0.5776\n",
      "Epoch 48/100\n",
      "1127/1127 [==============================] - 1s 1ms/step - loss: 0.6726 - accuracy: 0.5752\n",
      "Epoch 49/100\n",
      "1127/1127 [==============================] - 1s 1ms/step - loss: 0.6721 - accuracy: 0.5759\n",
      "Epoch 50/100\n",
      "1127/1127 [==============================] - 1s 1ms/step - loss: 0.6718 - accuracy: 0.5781\n",
      "Epoch 51/100\n",
      "1127/1127 [==============================] - 1s 1ms/step - loss: 0.6719 - accuracy: 0.5783\n",
      "Epoch 52/100\n",
      "1127/1127 [==============================] - 1s 1ms/step - loss: 0.6715 - accuracy: 0.5794\n",
      "Epoch 53/100\n",
      "1127/1127 [==============================] - 1s 1ms/step - loss: 0.6714 - accuracy: 0.5788\n",
      "Epoch 54/100\n",
      "1127/1127 [==============================] - 1s 1ms/step - loss: 0.6709 - accuracy: 0.5782\n",
      "Epoch 55/100\n",
      "1127/1127 [==============================] - 1s 1ms/step - loss: 0.6711 - accuracy: 0.5781\n",
      "Epoch 56/100\n",
      "1127/1127 [==============================] - 1s 1ms/step - loss: 0.6709 - accuracy: 0.5804\n",
      "Epoch 57/100\n",
      "1127/1127 [==============================] - 1s 1ms/step - loss: 0.6708 - accuracy: 0.5805\n",
      "Epoch 58/100\n",
      "1127/1127 [==============================] - 1s 1ms/step - loss: 0.6706 - accuracy: 0.5814\n",
      "Epoch 59/100\n",
      "1127/1127 [==============================] - 1s 1ms/step - loss: 0.6703 - accuracy: 0.5807\n",
      "Epoch 60/100\n",
      "1127/1127 [==============================] - 1s 1ms/step - loss: 0.6704 - accuracy: 0.5802\n",
      "Epoch 61/100\n",
      "1127/1127 [==============================] - 1s 1ms/step - loss: 0.6700 - accuracy: 0.5819\n",
      "Epoch 62/100\n",
      "1127/1127 [==============================] - 1s 1ms/step - loss: 0.6702 - accuracy: 0.5799\n",
      "Epoch 63/100\n",
      "1127/1127 [==============================] - 1s 1ms/step - loss: 0.6699 - accuracy: 0.5798\n",
      "Epoch 64/100\n",
      "1127/1127 [==============================] - 1s 1ms/step - loss: 0.6698 - accuracy: 0.5795\n",
      "Epoch 65/100\n",
      "1127/1127 [==============================] - 1s 1ms/step - loss: 0.6696 - accuracy: 0.5802\n",
      "Epoch 66/100\n",
      "1127/1127 [==============================] - 1s 1ms/step - loss: 0.6697 - accuracy: 0.5803\n",
      "Epoch 67/100\n",
      "1127/1127 [==============================] - 1s 1ms/step - loss: 0.6695 - accuracy: 0.5813\n",
      "Epoch 68/100\n",
      "1127/1127 [==============================] - 1s 1ms/step - loss: 0.6691 - accuracy: 0.5816\n",
      "Epoch 69/100\n",
      "1127/1127 [==============================] - 1s 1ms/step - loss: 0.6688 - accuracy: 0.5828\n",
      "Epoch 70/100\n",
      "1127/1127 [==============================] - 1s 1ms/step - loss: 0.6689 - accuracy: 0.5832\n",
      "Epoch 71/100\n",
      "1127/1127 [==============================] - 1s 1ms/step - loss: 0.6688 - accuracy: 0.5802\n",
      "Epoch 72/100\n",
      "1127/1127 [==============================] - 1s 1ms/step - loss: 0.6687 - accuracy: 0.5811\n",
      "Epoch 73/100\n",
      "1127/1127 [==============================] - 1s 1ms/step - loss: 0.6683 - accuracy: 0.5813\n",
      "Epoch 74/100\n",
      "1127/1127 [==============================] - 1s 1ms/step - loss: 0.6682 - accuracy: 0.5825\n",
      "Epoch 75/100\n",
      "1127/1127 [==============================] - 1s 1ms/step - loss: 0.6683 - accuracy: 0.5813\n",
      "Epoch 76/100\n",
      "1127/1127 [==============================] - 1s 1ms/step - loss: 0.6680 - accuracy: 0.5818\n",
      "Epoch 77/100\n",
      "1127/1127 [==============================] - 1s 1ms/step - loss: 0.6678 - accuracy: 0.5833\n",
      "Epoch 78/100\n",
      "1127/1127 [==============================] - 1s 1ms/step - loss: 0.6681 - accuracy: 0.5844\n",
      "Epoch 79/100\n",
      "1127/1127 [==============================] - 1s 1ms/step - loss: 0.6676 - accuracy: 0.5825\n",
      "Epoch 80/100\n",
      "1127/1127 [==============================] - 1s 1ms/step - loss: 0.6676 - accuracy: 0.5840\n",
      "Epoch 81/100\n",
      "1127/1127 [==============================] - 1s 1ms/step - loss: 0.6677 - accuracy: 0.5842\n",
      "Epoch 82/100\n",
      "1127/1127 [==============================] - 1s 1ms/step - loss: 0.6675 - accuracy: 0.5829\n",
      "Epoch 83/100\n",
      "1127/1127 [==============================] - 1s 1ms/step - loss: 0.6675 - accuracy: 0.5851\n",
      "Epoch 84/100\n",
      "1127/1127 [==============================] - 1s 1ms/step - loss: 0.6675 - accuracy: 0.5853\n",
      "Epoch 85/100\n",
      "1127/1127 [==============================] - 1s 1ms/step - loss: 0.6673 - accuracy: 0.5853\n",
      "Epoch 86/100\n",
      "1127/1127 [==============================] - 1s 1ms/step - loss: 0.6672 - accuracy: 0.5856\n",
      "Epoch 87/100\n",
      "1127/1127 [==============================] - 1s 1ms/step - loss: 0.6670 - accuracy: 0.5829\n",
      "Epoch 88/100\n",
      "1127/1127 [==============================] - 1s 1ms/step - loss: 0.6671 - accuracy: 0.5820\n",
      "Epoch 89/100\n",
      "1127/1127 [==============================] - 1s 1ms/step - loss: 0.6671 - accuracy: 0.5839\n",
      "Epoch 90/100\n",
      "1127/1127 [==============================] - 1s 1ms/step - loss: 0.6671 - accuracy: 0.5838\n",
      "Epoch 91/100\n",
      "1127/1127 [==============================] - 1s 1ms/step - loss: 0.6667 - accuracy: 0.5840\n",
      "Epoch 92/100\n",
      "1127/1127 [==============================] - 1s 1ms/step - loss: 0.6668 - accuracy: 0.5852\n",
      "Epoch 93/100\n",
      "1127/1127 [==============================] - 1s 1ms/step - loss: 0.6666 - accuracy: 0.5854\n",
      "Epoch 94/100\n",
      "1127/1127 [==============================] - 1s 1ms/step - loss: 0.6666 - accuracy: 0.5848\n",
      "Epoch 95/100\n",
      "1127/1127 [==============================] - 1s 1ms/step - loss: 0.6667 - accuracy: 0.5859\n",
      "Epoch 96/100\n",
      "1127/1127 [==============================] - 1s 1ms/step - loss: 0.6667 - accuracy: 0.5840\n",
      "Epoch 97/100\n",
      "1127/1127 [==============================] - 1s 1ms/step - loss: 0.6664 - accuracy: 0.5839\n",
      "Epoch 98/100\n",
      "1127/1127 [==============================] - 1s 1ms/step - loss: 0.6662 - accuracy: 0.5848\n",
      "Epoch 99/100\n",
      "1127/1127 [==============================] - 1s 1ms/step - loss: 0.6663 - accuracy: 0.5876\n",
      "Epoch 100/100\n",
      "1127/1127 [==============================] - 1s 1ms/step - loss: 0.6662 - accuracy: 0.5870\n"
     ]
    }
   ],
   "source": [
    "# Train the model\n",
    "fit_model = nn.fit(X_train_scaled, y_train, epochs=100)"
   ]
  },
  {
   "cell_type": "code",
   "execution_count": 31,
   "metadata": {},
   "outputs": [
    {
     "name": "stdout",
     "output_type": "stream",
     "text": [
      "282/282 - 0s - loss: 0.7268 - accuracy: 0.4877 - 435ms/epoch - 2ms/step\n",
      "Loss: 0.7268429398536682, Accuracy: 0.48773449659347534\n"
     ]
    }
   ],
   "source": [
    "# Evaluate the model using the test data\n",
    "model_loss, model_accuracy = nn.evaluate(X_test_scaled,y_test,verbose=2)\n",
    "print(f\"Loss: {model_loss}, Accuracy: {model_accuracy}\")"
   ]
  }
 ],
 "metadata": {
  "kernelspec": {
   "display_name": "base",
   "language": "python",
   "name": "python3"
  },
  "language_info": {
   "codemirror_mode": {
    "name": "ipython",
    "version": 3
   },
   "file_extension": ".py",
   "mimetype": "text/x-python",
   "name": "python",
   "nbconvert_exporter": "python",
   "pygments_lexer": "ipython3",
   "version": "3.10.13"
  }
 },
 "nbformat": 4,
 "nbformat_minor": 2
}
