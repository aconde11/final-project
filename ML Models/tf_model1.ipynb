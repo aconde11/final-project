{
 "cells": [
  {
   "cell_type": "code",
   "execution_count": 1,
   "metadata": {},
   "outputs": [
    {
     "data": {
      "text/html": [
       "<div>\n",
       "<style scoped>\n",
       "    .dataframe tbody tr th:only-of-type {\n",
       "        vertical-align: middle;\n",
       "    }\n",
       "\n",
       "    .dataframe tbody tr th {\n",
       "        vertical-align: top;\n",
       "    }\n",
       "\n",
       "    .dataframe thead th {\n",
       "        text-align: right;\n",
       "    }\n",
       "</style>\n",
       "<table border=\"1\" class=\"dataframe\">\n",
       "  <thead>\n",
       "    <tr style=\"text-align: right;\">\n",
       "      <th></th>\n",
       "      <th>Gender</th>\n",
       "      <th>Days Diff</th>\n",
       "      <th>Age</th>\n",
       "      <th>Neighbourhood</th>\n",
       "      <th>Scholarship</th>\n",
       "      <th>Hipertension</th>\n",
       "      <th>Diabetes</th>\n",
       "      <th>Alcoholism</th>\n",
       "      <th>Handcap</th>\n",
       "      <th>SMS_received</th>\n",
       "      <th>Outcome</th>\n",
       "    </tr>\n",
       "  </thead>\n",
       "  <tbody>\n",
       "    <tr>\n",
       "      <th>0</th>\n",
       "      <td>F</td>\n",
       "      <td>0</td>\n",
       "      <td>62</td>\n",
       "      <td>JARDIM DA PENHA</td>\n",
       "      <td>0</td>\n",
       "      <td>1</td>\n",
       "      <td>0</td>\n",
       "      <td>0</td>\n",
       "      <td>0</td>\n",
       "      <td>0</td>\n",
       "      <td>1</td>\n",
       "    </tr>\n",
       "    <tr>\n",
       "      <th>1</th>\n",
       "      <td>M</td>\n",
       "      <td>0</td>\n",
       "      <td>56</td>\n",
       "      <td>JARDIM DA PENHA</td>\n",
       "      <td>0</td>\n",
       "      <td>0</td>\n",
       "      <td>0</td>\n",
       "      <td>0</td>\n",
       "      <td>0</td>\n",
       "      <td>0</td>\n",
       "      <td>1</td>\n",
       "    </tr>\n",
       "    <tr>\n",
       "      <th>2</th>\n",
       "      <td>F</td>\n",
       "      <td>0</td>\n",
       "      <td>62</td>\n",
       "      <td>MATA DA PRAIA</td>\n",
       "      <td>0</td>\n",
       "      <td>0</td>\n",
       "      <td>0</td>\n",
       "      <td>0</td>\n",
       "      <td>0</td>\n",
       "      <td>0</td>\n",
       "      <td>1</td>\n",
       "    </tr>\n",
       "    <tr>\n",
       "      <th>3</th>\n",
       "      <td>F</td>\n",
       "      <td>0</td>\n",
       "      <td>8</td>\n",
       "      <td>PONTAL DE CAMBURI</td>\n",
       "      <td>0</td>\n",
       "      <td>0</td>\n",
       "      <td>0</td>\n",
       "      <td>0</td>\n",
       "      <td>0</td>\n",
       "      <td>0</td>\n",
       "      <td>1</td>\n",
       "    </tr>\n",
       "    <tr>\n",
       "      <th>4</th>\n",
       "      <td>F</td>\n",
       "      <td>0</td>\n",
       "      <td>56</td>\n",
       "      <td>JARDIM DA PENHA</td>\n",
       "      <td>0</td>\n",
       "      <td>1</td>\n",
       "      <td>1</td>\n",
       "      <td>0</td>\n",
       "      <td>0</td>\n",
       "      <td>0</td>\n",
       "      <td>1</td>\n",
       "    </tr>\n",
       "    <tr>\n",
       "      <th>...</th>\n",
       "      <td>...</td>\n",
       "      <td>...</td>\n",
       "      <td>...</td>\n",
       "      <td>...</td>\n",
       "      <td>...</td>\n",
       "      <td>...</td>\n",
       "      <td>...</td>\n",
       "      <td>...</td>\n",
       "      <td>...</td>\n",
       "      <td>...</td>\n",
       "      <td>...</td>\n",
       "    </tr>\n",
       "    <tr>\n",
       "      <th>110510</th>\n",
       "      <td>F</td>\n",
       "      <td>35</td>\n",
       "      <td>56</td>\n",
       "      <td>MARIA ORTIZ</td>\n",
       "      <td>0</td>\n",
       "      <td>0</td>\n",
       "      <td>0</td>\n",
       "      <td>0</td>\n",
       "      <td>0</td>\n",
       "      <td>1</td>\n",
       "      <td>1</td>\n",
       "    </tr>\n",
       "    <tr>\n",
       "      <th>110511</th>\n",
       "      <td>F</td>\n",
       "      <td>35</td>\n",
       "      <td>51</td>\n",
       "      <td>MARIA ORTIZ</td>\n",
       "      <td>0</td>\n",
       "      <td>0</td>\n",
       "      <td>0</td>\n",
       "      <td>0</td>\n",
       "      <td>0</td>\n",
       "      <td>1</td>\n",
       "      <td>1</td>\n",
       "    </tr>\n",
       "    <tr>\n",
       "      <th>110512</th>\n",
       "      <td>F</td>\n",
       "      <td>41</td>\n",
       "      <td>21</td>\n",
       "      <td>MARIA ORTIZ</td>\n",
       "      <td>0</td>\n",
       "      <td>0</td>\n",
       "      <td>0</td>\n",
       "      <td>0</td>\n",
       "      <td>0</td>\n",
       "      <td>1</td>\n",
       "      <td>1</td>\n",
       "    </tr>\n",
       "    <tr>\n",
       "      <th>110513</th>\n",
       "      <td>F</td>\n",
       "      <td>41</td>\n",
       "      <td>38</td>\n",
       "      <td>MARIA ORTIZ</td>\n",
       "      <td>0</td>\n",
       "      <td>0</td>\n",
       "      <td>0</td>\n",
       "      <td>0</td>\n",
       "      <td>0</td>\n",
       "      <td>1</td>\n",
       "      <td>1</td>\n",
       "    </tr>\n",
       "    <tr>\n",
       "      <th>110514</th>\n",
       "      <td>F</td>\n",
       "      <td>41</td>\n",
       "      <td>54</td>\n",
       "      <td>MARIA ORTIZ</td>\n",
       "      <td>0</td>\n",
       "      <td>0</td>\n",
       "      <td>0</td>\n",
       "      <td>0</td>\n",
       "      <td>0</td>\n",
       "      <td>1</td>\n",
       "      <td>1</td>\n",
       "    </tr>\n",
       "  </tbody>\n",
       "</table>\n",
       "<p>110515 rows × 11 columns</p>\n",
       "</div>"
      ],
      "text/plain": [
       "       Gender  Days Diff  Age      Neighbourhood  Scholarship  Hipertension  \\\n",
       "0           F          0   62    JARDIM DA PENHA            0             1   \n",
       "1           M          0   56    JARDIM DA PENHA            0             0   \n",
       "2           F          0   62      MATA DA PRAIA            0             0   \n",
       "3           F          0    8  PONTAL DE CAMBURI            0             0   \n",
       "4           F          0   56    JARDIM DA PENHA            0             1   \n",
       "...       ...        ...  ...                ...          ...           ...   \n",
       "110510      F         35   56        MARIA ORTIZ            0             0   \n",
       "110511      F         35   51        MARIA ORTIZ            0             0   \n",
       "110512      F         41   21        MARIA ORTIZ            0             0   \n",
       "110513      F         41   38        MARIA ORTIZ            0             0   \n",
       "110514      F         41   54        MARIA ORTIZ            0             0   \n",
       "\n",
       "        Diabetes  Alcoholism  Handcap  SMS_received  Outcome  \n",
       "0              0           0        0             0        1  \n",
       "1              0           0        0             0        1  \n",
       "2              0           0        0             0        1  \n",
       "3              0           0        0             0        1  \n",
       "4              1           0        0             0        1  \n",
       "...          ...         ...      ...           ...      ...  \n",
       "110510         0           0        0             1        1  \n",
       "110511         0           0        0             1        1  \n",
       "110512         0           0        0             1        1  \n",
       "110513         0           0        0             1        1  \n",
       "110514         0           0        0             1        1  \n",
       "\n",
       "[110515 rows x 11 columns]"
      ]
     },
     "execution_count": 1,
     "metadata": {},
     "output_type": "execute_result"
    }
   ],
   "source": [
    "from sklearn.model_selection import train_test_split\n",
    "from sklearn.preprocessing import StandardScaler\n",
    "from sklearn.metrics import classification_report\n",
    "from sklearn.metrics import accuracy_score, precision_score, recall_score, f1_score\n",
    "import pandas as pd\n",
    "import tensorflow as tf\n",
    "import numpy as np\n",
    "from datetime import datetime\n",
    "\n",
    "# Import data\n",
    "path = \"../Data/appointment_clean.csv\"\n",
    "\n",
    "noshow_df = pd.read_csv(path)\n",
    "noshow_df"
   ]
  },
  {
   "cell_type": "code",
   "execution_count": 2,
   "metadata": {},
   "outputs": [
    {
     "data": {
      "text/plain": [
       "Gender           object\n",
       "Days Diff         int64\n",
       "Age               int64\n",
       "Neighbourhood    object\n",
       "Scholarship       int64\n",
       "Hipertension      int64\n",
       "Diabetes          int64\n",
       "Alcoholism        int64\n",
       "Handcap           int64\n",
       "SMS_received      int64\n",
       "Outcome           int64\n",
       "dtype: object"
      ]
     },
     "execution_count": 2,
     "metadata": {},
     "output_type": "execute_result"
    }
   ],
   "source": [
    "noshow_df.dtypes"
   ]
  },
  {
   "cell_type": "code",
   "execution_count": 3,
   "metadata": {},
   "outputs": [
    {
     "data": {
      "text/plain": [
       "Gender             2\n",
       "Days Diff        131\n",
       "Age              100\n",
       "Neighbourhood     81\n",
       "Scholarship        2\n",
       "Hipertension       2\n",
       "Diabetes           2\n",
       "Alcoholism         2\n",
       "Handcap            5\n",
       "SMS_received       2\n",
       "Outcome            2\n",
       "dtype: int64"
      ]
     },
     "execution_count": 3,
     "metadata": {},
     "output_type": "execute_result"
    }
   ],
   "source": [
    "noshow_df.nunique()"
   ]
  },
  {
   "cell_type": "code",
   "execution_count": 4,
   "metadata": {},
   "outputs": [
    {
     "data": {
      "text/plain": [
       "Gender           0\n",
       "Days Diff        0\n",
       "Age              0\n",
       "Neighbourhood    0\n",
       "Scholarship      0\n",
       "Hipertension     0\n",
       "Diabetes         0\n",
       "Alcoholism       0\n",
       "Handcap          0\n",
       "SMS_received     0\n",
       "Outcome          0\n",
       "dtype: int64"
      ]
     },
     "execution_count": 4,
     "metadata": {},
     "output_type": "execute_result"
    }
   ],
   "source": [
    "noshow_df.isnull().sum()"
   ]
  },
  {
   "cell_type": "code",
   "execution_count": 5,
   "metadata": {},
   "outputs": [
    {
     "data": {
      "text/plain": [
       "Days Diff                      int64\n",
       "Age                            int64\n",
       "Scholarship                    int64\n",
       "Hipertension                   int64\n",
       "Diabetes                       int64\n",
       "                               ...  \n",
       "Neighbourhood_SÃO JOSÉ          bool\n",
       "Neighbourhood_SÃO PEDRO         bool\n",
       "Neighbourhood_TABUAZEIRO        bool\n",
       "Neighbourhood_UNIVERSITÁRIO     bool\n",
       "Neighbourhood_VILA RUBIM        bool\n",
       "Length: 92, dtype: object"
      ]
     },
     "execution_count": 5,
     "metadata": {},
     "output_type": "execute_result"
    }
   ],
   "source": [
    "# One-hot encoding\n",
    "noshow_df_dummies = pd.get_dummies(noshow_df)\n",
    "noshow_df_dummies.dtypes"
   ]
  },
  {
   "cell_type": "code",
   "execution_count": 6,
   "metadata": {},
   "outputs": [
    {
     "data": {
      "text/plain": [
       "Days Diff                      0\n",
       "Age                            0\n",
       "Scholarship                    0\n",
       "Hipertension                   0\n",
       "Diabetes                       0\n",
       "                              ..\n",
       "Neighbourhood_SÃO JOSÉ         0\n",
       "Neighbourhood_SÃO PEDRO        0\n",
       "Neighbourhood_TABUAZEIRO       0\n",
       "Neighbourhood_UNIVERSITÁRIO    0\n",
       "Neighbourhood_VILA RUBIM       0\n",
       "Length: 92, dtype: int64"
      ]
     },
     "execution_count": 6,
     "metadata": {},
     "output_type": "execute_result"
    }
   ],
   "source": [
    "noshow_df_dummies.isnull().sum()"
   ]
  },
  {
   "cell_type": "code",
   "execution_count": 7,
   "metadata": {},
   "outputs": [],
   "source": [
    "# Split our preprocessed data into our features and target arrays\n",
    "X = noshow_df_dummies.drop('Outcome', axis=1)\n",
    "y = noshow_df_dummies['Outcome']\n",
    "\n",
    "# Split the preprocessed data into a training and testing dataset\n",
    "X_train, X_test, y_train, y_test = train_test_split(X, y, test_size=0.2, random_state=50)"
   ]
  },
  {
   "cell_type": "code",
   "execution_count": 8,
   "metadata": {},
   "outputs": [],
   "source": [
    "# Create a StandardScaler instances\n",
    "scaler = StandardScaler()\n",
    "\n",
    "# Fit the StandardScaler\n",
    "X_scaler = scaler.fit(X_train)\n",
    "\n",
    "# Scale the data\n",
    "X_train_scaled = X_scaler.transform(X_train)\n",
    "X_test_scaled = X_scaler.transform(X_test)"
   ]
  },
  {
   "cell_type": "code",
   "execution_count": 9,
   "metadata": {},
   "outputs": [
    {
     "data": {
      "text/plain": [
       "91"
      ]
     },
     "execution_count": 9,
     "metadata": {},
     "output_type": "execute_result"
    }
   ],
   "source": [
    "len(X_train_scaled[0])"
   ]
  },
  {
   "cell_type": "code",
   "execution_count": 10,
   "metadata": {},
   "outputs": [
    {
     "data": {
      "text/plain": [
       "Outcome\n",
       "1    88199\n",
       "0    22316\n",
       "Name: count, dtype: int64"
      ]
     },
     "execution_count": 10,
     "metadata": {},
     "output_type": "execute_result"
    }
   ],
   "source": [
    "y.value_counts()"
   ]
  },
  {
   "cell_type": "code",
   "execution_count": 11,
   "metadata": {},
   "outputs": [
    {
     "name": "stdout",
     "output_type": "stream",
     "text": [
      "Model: \"sequential\"\n",
      "_________________________________________________________________\n",
      " Layer (type)                Output Shape              Param #   \n",
      "=================================================================\n",
      " dense (Dense)               (None, 10)                920       \n",
      "                                                                 \n",
      " dense_1 (Dense)             (None, 5)                 55        \n",
      "                                                                 \n",
      " dense_2 (Dense)             (None, 1)                 6         \n",
      "                                                                 \n",
      "=================================================================\n",
      "Total params: 981\n",
      "Trainable params: 981\n",
      "Non-trainable params: 0\n",
      "_________________________________________________________________\n"
     ]
    }
   ],
   "source": [
    "# Define the model - deep neural net, i.e., the number of input features and hidden nodes for each layer.\n",
    "number_input_features = len(X_train_scaled[0])\n",
    "hidden_nodes_layer1 = 10\n",
    "hidden_nodes_layer2 = 5\n",
    "\n",
    "nn = tf.keras.models.Sequential()\n",
    "\n",
    "# First hidden layer\n",
    "nn.add(tf.keras.layers.Dense(units=hidden_nodes_layer1, input_dim=number_input_features, activation=\"relu\"))\n",
    "\n",
    "# Second hidden layer\n",
    "nn.add(tf.keras.layers.Dense(units=hidden_nodes_layer2, activation=\"relu\"))\n",
    "\n",
    "# Output layer\n",
    "nn.add(tf.keras.layers.Dense(units=1, activation=\"sigmoid\"))\n",
    "\n",
    "# Check the structure of the model\n",
    "nn.summary()"
   ]
  },
  {
   "cell_type": "code",
   "execution_count": 12,
   "metadata": {},
   "outputs": [],
   "source": [
    "# Compile the model\n",
    "nn.compile(loss=\"binary_crossentropy\", optimizer=\"adam\", metrics=[\"accuracy\"])"
   ]
  },
  {
   "cell_type": "code",
   "execution_count": 13,
   "metadata": {},
   "outputs": [
    {
     "name": "stdout",
     "output_type": "stream",
     "text": [
      "Epoch 1/50\n",
      "2763/2763 [==============================] - 3s 1ms/step - loss: 0.4943 - accuracy: 0.7911\n",
      "Epoch 2/50\n",
      "2763/2763 [==============================] - 3s 1ms/step - loss: 0.4686 - accuracy: 0.7986\n",
      "Epoch 3/50\n",
      "2763/2763 [==============================] - 3s 1ms/step - loss: 0.4629 - accuracy: 0.7985\n",
      "Epoch 4/50\n",
      "2763/2763 [==============================] - 3s 1ms/step - loss: 0.4595 - accuracy: 0.7989\n",
      "Epoch 5/50\n",
      "2763/2763 [==============================] - 3s 1ms/step - loss: 0.4575 - accuracy: 0.7988\n",
      "Epoch 6/50\n",
      "2763/2763 [==============================] - 3s 1ms/step - loss: 0.4560 - accuracy: 0.7989\n",
      "Epoch 7/50\n",
      "2763/2763 [==============================] - 3s 1ms/step - loss: 0.4549 - accuracy: 0.7992\n",
      "Epoch 8/50\n",
      "2763/2763 [==============================] - 3s 1ms/step - loss: 0.4539 - accuracy: 0.7988\n",
      "Epoch 9/50\n",
      "2763/2763 [==============================] - 3s 1ms/step - loss: 0.4534 - accuracy: 0.7989\n",
      "Epoch 10/50\n",
      "2763/2763 [==============================] - 4s 1ms/step - loss: 0.4524 - accuracy: 0.7987\n",
      "Epoch 11/50\n",
      "2763/2763 [==============================] - 3s 1ms/step - loss: 0.4515 - accuracy: 0.7989\n",
      "Epoch 12/50\n",
      "2763/2763 [==============================] - 4s 1ms/step - loss: 0.4511 - accuracy: 0.7990\n",
      "Epoch 13/50\n",
      "2763/2763 [==============================] - 3s 1ms/step - loss: 0.4502 - accuracy: 0.7992\n",
      "Epoch 14/50\n",
      "2763/2763 [==============================] - 3s 1ms/step - loss: 0.4496 - accuracy: 0.7992\n",
      "Epoch 15/50\n",
      "2763/2763 [==============================] - 3s 1ms/step - loss: 0.4491 - accuracy: 0.7993\n",
      "Epoch 16/50\n",
      "2763/2763 [==============================] - 4s 1ms/step - loss: 0.4487 - accuracy: 0.7991\n",
      "Epoch 17/50\n",
      "2763/2763 [==============================] - 4s 1ms/step - loss: 0.4480 - accuracy: 0.7989\n",
      "Epoch 18/50\n",
      "2763/2763 [==============================] - 4s 1ms/step - loss: 0.4478 - accuracy: 0.7992\n",
      "Epoch 19/50\n",
      "2763/2763 [==============================] - 3s 1ms/step - loss: 0.4474 - accuracy: 0.7994\n",
      "Epoch 20/50\n",
      "2763/2763 [==============================] - 4s 1ms/step - loss: 0.4475 - accuracy: 0.7991\n",
      "Epoch 21/50\n",
      "2763/2763 [==============================] - 3s 1ms/step - loss: 0.4469 - accuracy: 0.7991\n",
      "Epoch 22/50\n",
      "2763/2763 [==============================] - 4s 1ms/step - loss: 0.4470 - accuracy: 0.7993\n",
      "Epoch 23/50\n",
      "2763/2763 [==============================] - 4s 1ms/step - loss: 0.4465 - accuracy: 0.7995\n",
      "Epoch 24/50\n",
      "2763/2763 [==============================] - 4s 1ms/step - loss: 0.4465 - accuracy: 0.7992\n",
      "Epoch 25/50\n",
      "2763/2763 [==============================] - 4s 1ms/step - loss: 0.4464 - accuracy: 0.7994\n",
      "Epoch 26/50\n",
      "2763/2763 [==============================] - 4s 1ms/step - loss: 0.4462 - accuracy: 0.7991\n",
      "Epoch 27/50\n",
      "2763/2763 [==============================] - 4s 1ms/step - loss: 0.4459 - accuracy: 0.7993\n",
      "Epoch 28/50\n",
      "2763/2763 [==============================] - 4s 1ms/step - loss: 0.4459 - accuracy: 0.7989\n",
      "Epoch 29/50\n",
      "2763/2763 [==============================] - 4s 1ms/step - loss: 0.4458 - accuracy: 0.7993\n",
      "Epoch 30/50\n",
      "2763/2763 [==============================] - 4s 1ms/step - loss: 0.4456 - accuracy: 0.7992\n",
      "Epoch 31/50\n",
      "2763/2763 [==============================] - 4s 1ms/step - loss: 0.4455 - accuracy: 0.7991\n",
      "Epoch 32/50\n",
      "2763/2763 [==============================] - 4s 2ms/step - loss: 0.4455 - accuracy: 0.7991\n",
      "Epoch 33/50\n",
      "2763/2763 [==============================] - 4s 1ms/step - loss: 0.4451 - accuracy: 0.7992\n",
      "Epoch 34/50\n",
      "2763/2763 [==============================] - 4s 1ms/step - loss: 0.4452 - accuracy: 0.7994\n",
      "Epoch 35/50\n",
      "2763/2763 [==============================] - 4s 1ms/step - loss: 0.4450 - accuracy: 0.7993\n",
      "Epoch 36/50\n",
      "2763/2763 [==============================] - 4s 1ms/step - loss: 0.4451 - accuracy: 0.7995\n",
      "Epoch 37/50\n",
      "2763/2763 [==============================] - 4s 1ms/step - loss: 0.4448 - accuracy: 0.7993\n",
      "Epoch 38/50\n",
      "2763/2763 [==============================] - 4s 1ms/step - loss: 0.4444 - accuracy: 0.7995\n",
      "Epoch 39/50\n",
      "2763/2763 [==============================] - 4s 1ms/step - loss: 0.4446 - accuracy: 0.7996\n",
      "Epoch 40/50\n",
      "2763/2763 [==============================] - 4s 1ms/step - loss: 0.4445 - accuracy: 0.7995\n",
      "Epoch 41/50\n",
      "2763/2763 [==============================] - 4s 1ms/step - loss: 0.4445 - accuracy: 0.7996\n",
      "Epoch 42/50\n",
      "2763/2763 [==============================] - 4s 1ms/step - loss: 0.4443 - accuracy: 0.7993\n",
      "Epoch 43/50\n",
      "2763/2763 [==============================] - 4s 1ms/step - loss: 0.4441 - accuracy: 0.7996\n",
      "Epoch 44/50\n",
      "2763/2763 [==============================] - 4s 1ms/step - loss: 0.4440 - accuracy: 0.7995\n",
      "Epoch 45/50\n",
      "2763/2763 [==============================] - 4s 1ms/step - loss: 0.4440 - accuracy: 0.7993\n",
      "Epoch 46/50\n",
      "2763/2763 [==============================] - 4s 1ms/step - loss: 0.4439 - accuracy: 0.7994\n",
      "Epoch 47/50\n",
      "2763/2763 [==============================] - 4s 1ms/step - loss: 0.4440 - accuracy: 0.7996\n",
      "Epoch 48/50\n",
      "2763/2763 [==============================] - 4s 1ms/step - loss: 0.4438 - accuracy: 0.7994\n",
      "Epoch 49/50\n",
      "2763/2763 [==============================] - 4s 1ms/step - loss: 0.4437 - accuracy: 0.7997\n",
      "Epoch 50/50\n",
      "2763/2763 [==============================] - 4s 1ms/step - loss: 0.4435 - accuracy: 0.7997\n"
     ]
    }
   ],
   "source": [
    "# Train the model\n",
    "fit_model = nn.fit(X_train_scaled, y_train, epochs=50)"
   ]
  },
  {
   "cell_type": "code",
   "execution_count": 14,
   "metadata": {},
   "outputs": [
    {
     "name": "stdout",
     "output_type": "stream",
     "text": [
      "691/691 - 1s - loss: 0.4719 - accuracy: 0.7953 - 745ms/epoch - 1ms/step\n",
      "Loss: 0.47193408012390137, Accuracy: 0.7952766418457031\n"
     ]
    }
   ],
   "source": [
    "# Evaluate the model using the test data\n",
    "model_loss, model_accuracy = nn.evaluate(X_test_scaled,y_test,verbose=2)\n",
    "print(f\"Loss: {model_loss}, Accuracy: {model_accuracy}\")"
   ]
  },
  {
   "cell_type": "code",
   "execution_count": 15,
   "metadata": {},
   "outputs": [
    {
     "name": "stdout",
     "output_type": "stream",
     "text": [
      "691/691 [==============================] - 1s 811us/step\n",
      "              precision    recall  f1-score   support\n",
      "\n",
      "           0       0.50      0.02      0.04      4524\n",
      "           1       0.80      1.00      0.89     17579\n",
      "\n",
      "    accuracy                           0.80     22103\n",
      "   macro avg       0.65      0.51      0.46     22103\n",
      "weighted avg       0.74      0.80      0.71     22103\n",
      "\n"
     ]
    }
   ],
   "source": [
    "# Make predictions on the scaled test set\n",
    "y_probabilities = nn.predict(X_test_scaled)\n",
    "\n",
    "# Convert probabilities to class labels (0 or 1)\n",
    "y_pred = (y_probabilities > 0.5).astype(int)\n",
    "\n",
    "# Flatten predictions to 1D array\n",
    "y_pred = y_pred.flatten()\n",
    "\n",
    "# Print classification report\n",
    "print(classification_report(y_test, y_pred))"
   ]
  }
 ],
 "metadata": {
  "kernelspec": {
   "display_name": "base",
   "language": "python",
   "name": "python3"
  },
  "language_info": {
   "codemirror_mode": {
    "name": "ipython",
    "version": 3
   },
   "file_extension": ".py",
   "mimetype": "text/x-python",
   "name": "python",
   "nbconvert_exporter": "python",
   "pygments_lexer": "ipython3",
   "version": "3.10.13"
  }
 },
 "nbformat": 4,
 "nbformat_minor": 2
}
